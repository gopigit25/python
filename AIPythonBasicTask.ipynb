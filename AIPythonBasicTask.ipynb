{
  "nbformat": 4,
  "nbformat_minor": 0,
  "metadata": {
    "colab": {
      "provenance": [],
      "collapsed_sections": [
        "gRe4FZ-cpXST",
        "79vvB5LApSfg",
        "Bs3fArDgq_A9",
        "PIOBjucJs5Q0",
        "H_DKmXtCwDpk",
        "6z6Ur8Wb1-ag",
        "hvX537Ae4GmL",
        "cgtQOm6T_2BB",
        "B9WRNFlhXDOo",
        "jvlzgPRNYWAu",
        "UKeDv6bcZsYk",
        "e2m5BzEqec72",
        "q_VAN3xPkBFI",
        "Dsq3nQqdlbva",
        "6BsdWTVjoraq",
        "QmDrBifjrqF9"
      ]
    },
    "kernelspec": {
      "name": "python3",
      "display_name": "Python 3"
    },
    "language_info": {
      "name": "python"
    }
  },
  "cells": [
    {
      "cell_type": "markdown",
      "source": [
        "#Print() function tasks"
      ],
      "metadata": {
        "id": "gRe4FZ-cpXST"
      }
    },
    {
      "cell_type": "code",
      "execution_count": null,
      "metadata": {
        "id": "DBjX-2A3i_5h"
      },
      "outputs": [],
      "source": [
        "\n",
        "\n",
        "print(\"Python program\")\n",
        "print(\"\")\n",
        "print(\"Basics of Python\\nIt is an OOP Language\")\n",
        "print(\"\")\n",
        "a=\"Variable in a sentence\"\n",
        "print(a)"
      ]
    },
    {
      "cell_type": "markdown",
      "source": [
        "#Data Type task"
      ],
      "metadata": {
        "id": "79vvB5LApSfg"
      }
    },
    {
      "cell_type": "code",
      "source": [
        "#Check Data type\n",
        "x=\"check Data type\"\n",
        "print(type(x))"
      ],
      "metadata": {
        "colab": {
          "base_uri": "https://localhost:8080/"
        },
        "id": "_oKm48PCo6yj",
        "outputId": "690e04d8-f0f0-42ec-84ed-e433b7b24054"
      },
      "execution_count": null,
      "outputs": [
        {
          "output_type": "stream",
          "name": "stdout",
          "text": [
            "<class 'str'>\n"
          ]
        }
      ]
    },
    {
      "cell_type": "code",
      "source": [
        "#Convert Datatypes\n",
        "N=int(input(\"Ente the number\"))\n",
        "a=str(N)\n",
        "print(type(a))"
      ],
      "metadata": {
        "id": "AonMeHrpuuPF"
      },
      "execution_count": null,
      "outputs": []
    },
    {
      "cell_type": "code",
      "source": [
        "#Concatenating Different Datatype\n",
        "x=\"check Data type\"\n",
        "N=int(input(\"Ente the number\"))\n",
        "y=x+str(N)\n",
        "print(y)"
      ],
      "metadata": {
        "colab": {
          "base_uri": "https://localhost:8080/"
        },
        "id": "NWg9EcUnuwTW",
        "outputId": "6ef6b382-d98b-42e7-9e63-c8eb1183ad8e"
      },
      "execution_count": null,
      "outputs": [
        {
          "output_type": "stream",
          "name": "stdout",
          "text": [
            "Ente the number12\n",
            "check Data type12\n"
          ]
        }
      ]
    },
    {
      "cell_type": "markdown",
      "source": [
        "#Math operation Tasks"
      ],
      "metadata": {
        "id": "Bs3fArDgq_A9"
      }
    },
    {
      "cell_type": "code",
      "source": [
        "a=5\n",
        "b=6\n",
        "print(\"Addition of two numbers is\",a+b)\n",
        "print(\"Subtraction of two numbers is\",a-b)\n",
        "print(\"Multiplication of two numbers is\",a*b)\n",
        "print(\"Division of two numbers is\",a/b)\n",
        "print(\"Modulus of two numbers is\",a%b)\n",
        "print(\"Exponentiation is\",a**2)\n",
        "print(\"Floor division is\",b//2)"
      ],
      "metadata": {
        "id": "Vmn7SeWHrFeo"
      },
      "execution_count": null,
      "outputs": []
    },
    {
      "cell_type": "markdown",
      "source": [
        "# Conditions task - beginners"
      ],
      "metadata": {
        "id": "PIOBjucJs5Q0"
      }
    },
    {
      "cell_type": "code",
      "source": [
        "#Check if a number is odd or even\n",
        "\n",
        "a=int(input(\"enter the number\"))\n",
        "if a%2==0:\n",
        "  print(\"Number is even\")\n",
        "else:\n",
        "  print(\"Number is odd\")"
      ],
      "metadata": {
        "id": "krCQvbkAs_uD"
      },
      "execution_count": null,
      "outputs": []
    },
    {
      "cell_type": "code",
      "source": [
        "#Find a largest number\n",
        "a,b=map(int,input(\"enter the numbers\").split(\",\"))\n",
        "if a>b:\n",
        "  print(\"a is greater\")\n",
        "elif b>a:\n",
        "  print(\"b is greater\")\n",
        "else:\n",
        "  Print(\"Both are same\")"
      ],
      "metadata": {
        "id": "MRIzaWtCuLqF"
      },
      "execution_count": null,
      "outputs": []
    },
    {
      "cell_type": "code",
      "source": [
        "#Grading System\n",
        "\n",
        "x=int(input(\"enter the number\"))\n",
        "if x==35:\n",
        "  print(\"PASS\")\n",
        "elif x>35 and x<=50:\n",
        "  print(\"Grade C\")\n",
        "elif x>50 and x<=60:\n",
        "  print(\"Grade B\")\n",
        "elif x>60 and x<=80:\n",
        "  print(\"Grade A\")\n",
        "elif x>80 and x<=100:\n",
        "  print(\"Grade A+\")\n",
        "else:\n",
        "  print(\"FAIL\")"
      ],
      "metadata": {
        "id": "a7OZImCavHJ0"
      },
      "execution_count": null,
      "outputs": []
    },
    {
      "cell_type": "markdown",
      "source": [],
      "metadata": {
        "id": "Y9qt8uDDwBhP"
      }
    },
    {
      "cell_type": "markdown",
      "source": [
        "#Conditional Tasks - Intermediate"
      ],
      "metadata": {
        "id": "H_DKmXtCwDpk"
      }
    },
    {
      "cell_type": "code",
      "source": [
        "#Check the given number is positive,negative or zero\n",
        "n=int(input(\"Enter the number\"))\n",
        "if n>0:\n",
        "  print(\"Positive\")\n",
        "elif n<0:\n",
        "  print(\"Negative\")\n",
        "else:\n",
        "  print(\"Zero\")"
      ],
      "metadata": {
        "id": "-I2Krw0zw32L"
      },
      "execution_count": null,
      "outputs": []
    },
    {
      "cell_type": "code",
      "source": [
        "#find the largest of three numbers\n",
        "a,b,c=map(int,input(\"Enter the numbers to Compare\").split(\",\"))\n",
        "if a>b and a>c:\n",
        "  print(f\"a {a} is largest\")\n",
        "elif b>a and b>c:\n",
        "  print(f\"b {b} is largest\")\n",
        "else:\n",
        "  print(f\"c {c} is largest\")"
      ],
      "metadata": {
        "id": "-cr8RtnLxVne"
      },
      "execution_count": null,
      "outputs": []
    },
    {
      "cell_type": "code",
      "source": [
        "#Checkt the given year is leap year or not\n",
        "year=int(input(\"Enter the year\"))\n",
        "if year%4==0 and year%100!=0 or year%400==0 :\n",
        "  print(\"Leap Year\")\n",
        "else:\n",
        "  print(\"Not a Leap Year\")"
      ],
      "metadata": {
        "id": "8QQnq3ExybNr"
      },
      "execution_count": null,
      "outputs": []
    },
    {
      "cell_type": "code",
      "source": [
        "#Check the char is vowel or consonant\n",
        "c=input(\"Enter the char :\")\n",
        "if c.isalpha() and len(c)==1:\n",
        "  if c in  \"aeiouAEIOU\":\n",
        "    print(\"Vowel\")\n",
        "  else:\n",
        "    print(\"Consonant\")\n",
        "else:\n",
        "  print(\"Invalid input\")"
      ],
      "metadata": {
        "id": "3P3X08mNzuz7"
      },
      "execution_count": null,
      "outputs": []
    },
    {
      "cell_type": "code",
      "source": [
        "#Simple calculator using conditional statement\n",
        "\n",
        "operator=input(\"Enter the operators(+-*/)\")\n",
        "#a,b=map(int,input(\"Enter the numbers to calculate\").split(\",\"))\n",
        "if operator==\"+\":\n",
        "  a,b=map(int,input(\"Enter the numbers to calculate\").split(\",\"))\n",
        "  print(a+b)\n",
        "elif operator==\"-\":\n",
        "  a,b=map(int,input(\"Enter the numbers to calculate\").split(\",\"))\n",
        "  print(a-b)\n",
        "elif operator==\"*\":\n",
        "  a,b=map(int,input(\"Enter the numbers to calculate\").split(\",\"))\n",
        "  print(a*b)\n",
        "elif operator==\"/\":\n",
        "  a,b=map(int,input(\"Enter the numbers to calculate\").split(\",\"))\n",
        "  print(a/b)\n",
        "else:\n",
        "  print(\"Invalid operator\")\n"
      ],
      "metadata": {
        "id": "JxESL_Fs0yJ1"
      },
      "execution_count": null,
      "outputs": []
    },
    {
      "cell_type": "markdown",
      "source": [
        "#Loops for and While"
      ],
      "metadata": {
        "id": "6z6Ur8Wb1-ag"
      }
    },
    {
      "cell_type": "code",
      "source": [
        "#Print Numbers from 1 to 5(For loop)\n",
        "for i in range(1,6):\n",
        "  print(i)"
      ],
      "metadata": {
        "id": "npMC2USc2C46"
      },
      "execution_count": null,
      "outputs": []
    },
    {
      "cell_type": "code",
      "source": [
        "#print even numbers upto 10 (using while)\n",
        "i = 2\n",
        "while i <= 10:\n",
        "    print(i)\n",
        "    i += 2"
      ],
      "metadata": {
        "id": "D4IEEcY32gQV"
      },
      "execution_count": null,
      "outputs": []
    },
    {
      "cell_type": "code",
      "source": [
        "#Iterate over a list\n",
        "a=[1,2,3,4,5,6,7,8]\n",
        "for i in a:\n",
        "  print(i)"
      ],
      "metadata": {
        "id": "VVZuzt863xDP"
      },
      "execution_count": null,
      "outputs": []
    },
    {
      "cell_type": "markdown",
      "source": [
        "#For loop - Intermediate"
      ],
      "metadata": {
        "id": "hvX537Ae4GmL"
      }
    },
    {
      "cell_type": "code",
      "source": [
        "#Prime numbers upto 100\n",
        "n=int(input(\"Enter the number\"))\n",
        "count=0\n",
        "for i in range(1,n+1):\n",
        "  for j in range(1,i+1):\n",
        "    if i%j==0:\n",
        "      count+=1\n",
        "  if count==2:\n",
        "    print(i)\n",
        "  count=0\n"
      ],
      "metadata": {
        "id": "1TQC8XU-4LVZ"
      },
      "execution_count": null,
      "outputs": []
    },
    {
      "cell_type": "code",
      "source": [
        "#Tables\n",
        "n=int(input(\"Enter the table number: \"))\n",
        "for i in range(1,11):\n",
        "  print(f\"{i}*{n}={i*n}\")"
      ],
      "metadata": {
        "id": "Lfge6hXP7CrI"
      },
      "execution_count": null,
      "outputs": []
    },
    {
      "cell_type": "code",
      "source": [
        "#Factorial\n",
        "n=int(input(\"Enter the factorial\"))\n",
        "f=1\n",
        "for i in range(1,n+1):\n",
        "  f*=i\n",
        "print(f)"
      ],
      "metadata": {
        "id": "yLPekDQS7jUK"
      },
      "execution_count": null,
      "outputs": []
    },
    {
      "cell_type": "code",
      "source": [
        "#Finonacci Series\n",
        "n=int(input(\"Enter the number: \"))\n",
        "a=0\n",
        "b=1\n",
        "print(a)\n",
        "print(b)\n",
        "for i in range(3,n+1):\n",
        "  c=a+b\n",
        "  print(c)\n",
        "  a=b\n",
        "  b=c\n",
        "\n",
        "\n",
        "\n"
      ],
      "metadata": {
        "id": "C9WgW_lt-TBE"
      },
      "execution_count": null,
      "outputs": []
    },
    {
      "cell_type": "code",
      "source": [
        "#Even number upto 50\n",
        "for i in range(1,51):\n",
        "  if i%2==0:\n",
        "    print(\"Even numbers are\",i)"
      ],
      "metadata": {
        "id": "0KvI8l2n_b8K"
      },
      "execution_count": null,
      "outputs": []
    },
    {
      "cell_type": "markdown",
      "source": [
        "#While loop - Intermediate\n"
      ],
      "metadata": {
        "id": "cgtQOm6T_2BB"
      }
    },
    {
      "cell_type": "code",
      "source": [
        "#Tables\n",
        "n=int(input(\"enter the number\"))\n",
        "while n>0:\n",
        "  for i  in range(1,11):\n",
        "    print(f\"{i}*{n}={i*n}\")\n",
        "  break\n",
        "\n"
      ],
      "metadata": {
        "id": "qa3EgjYE_-e-"
      },
      "execution_count": null,
      "outputs": []
    },
    {
      "cell_type": "code",
      "source": [
        "#Prime numbers upto 100\n",
        "n=int(input(\"Enter the number\"))\n",
        "count=0\n",
        "for i in range(1,n+1):\n",
        "  for j in range(1,i+1):\n",
        "    if i%j==0:\n",
        "      count+=1\n",
        "  if count==2:\n",
        "    print(i)\n",
        "  count=0"
      ],
      "metadata": {
        "id": "nWgVjKkQF3Lt"
      },
      "execution_count": null,
      "outputs": []
    },
    {
      "cell_type": "code",
      "source": [
        "#Factorial\n",
        "n=int(input(\"Enter the factorial\"))\n",
        "while n>0:\n",
        "  f=1\n",
        "  for i in range(1,n+1):\n",
        "    f*=i\n",
        "  print(f)\n",
        "  n=0"
      ],
      "metadata": {
        "id": "xAgeBKi6V6NJ"
      },
      "execution_count": null,
      "outputs": []
    },
    {
      "cell_type": "code",
      "source": [
        "#Finonacci Series\n",
        "n=int(input(\"Enter the number: \"))\n",
        "while n>0:\n",
        "  a=0\n",
        "  b=1\n",
        "  print(a)\n",
        "  print(b)\n",
        "  for i in range(3,n+1):\n",
        "    c=a+b\n",
        "    print(c)\n",
        "    a=b\n",
        "    b=c\n",
        "  n=0"
      ],
      "metadata": {
        "id": "JLiaciaRWcwO"
      },
      "execution_count": null,
      "outputs": []
    },
    {
      "cell_type": "code",
      "source": [
        "#Even number upto 50\n",
        "n=1\n",
        "while n>0:\n",
        "  for i in range(1,51):\n",
        "    if i%2==0:\n",
        "      print(\"Even numbers are\",i)\n",
        "  n=0"
      ],
      "metadata": {
        "id": "yzo9rjGdW0ZC"
      },
      "execution_count": null,
      "outputs": []
    },
    {
      "cell_type": "markdown",
      "source": [
        "#String Basics"
      ],
      "metadata": {
        "id": "B9WRNFlhXDOo"
      }
    },
    {
      "cell_type": "code",
      "source": [
        "#concotenate two string\n",
        "a=\"Python\"\n",
        "b=\"is a Programming language\"\n",
        "print(a+b)"
      ],
      "metadata": {
        "id": "R90UxzZyXJjD"
      },
      "execution_count": null,
      "outputs": []
    },
    {
      "cell_type": "code",
      "source": [
        "#convert a string from lower to upper\n",
        "s=input(\"Enter the string to convert\").lower()\n",
        "a=s.upper()\n",
        "print(a)"
      ],
      "metadata": {
        "id": "kISsR3DLXYdv"
      },
      "execution_count": null,
      "outputs": []
    },
    {
      "cell_type": "code",
      "source": [
        "#Find the length of a string\n",
        "s=input(\"Enter the string\")\n",
        "l=len(s)\n",
        "print(l)"
      ],
      "metadata": {
        "id": "iiBxdEQFX_6f"
      },
      "execution_count": null,
      "outputs": []
    },
    {
      "cell_type": "markdown",
      "source": [
        "#String Slicing"
      ],
      "metadata": {
        "id": "jvlzgPRNYWAu"
      }
    },
    {
      "cell_type": "code",
      "source": [
        "#Extract first 5 characters from the string\n",
        "string=\"metro city\"\n",
        "s=string[0:5]\n",
        "print(s)"
      ],
      "metadata": {
        "id": "3fTNjRW2YdPF"
      },
      "execution_count": null,
      "outputs": []
    },
    {
      "cell_type": "code",
      "source": [
        "#Extract last 4 characters from the string\n",
        "string=\"metrocity\"\n",
        "s=string[-5:]\n",
        "print(s)"
      ],
      "metadata": {
        "id": "02lDiRIHY19D"
      },
      "execution_count": null,
      "outputs": []
    },
    {
      "cell_type": "code",
      "source": [
        "#Reverse a string using slicing\n",
        "string=\"metrocity\"\n",
        "s=string[::-1]\n",
        "print(s)\n"
      ],
      "metadata": {
        "id": "V_nlfNCkZUtF"
      },
      "execution_count": null,
      "outputs": []
    },
    {
      "cell_type": "markdown",
      "source": [],
      "metadata": {
        "id": "oBOa5eInZq-P"
      }
    },
    {
      "cell_type": "markdown",
      "source": [
        "#Lists"
      ],
      "metadata": {
        "id": "UKeDv6bcZsYk"
      }
    },
    {
      "cell_type": "code",
      "source": [
        "#Create and access the list\n",
        "l=[1,2,3,4,5]\n",
        "for i in l:\n",
        "  print(i)"
      ],
      "metadata": {
        "id": "TgUv2AmVZw9Y"
      },
      "execution_count": null,
      "outputs": []
    },
    {
      "cell_type": "code",
      "source": [
        "#Append an item to a list\n",
        "l=[]\n",
        "l.append('a')\n",
        "l.append('b')\n",
        "print(\"l=\",l)"
      ],
      "metadata": {
        "id": "KMfuKwcuZ-Qa"
      },
      "execution_count": null,
      "outputs": []
    },
    {
      "cell_type": "code",
      "source": [
        "#Remove an item from a list\n",
        "l=[1,2,3,4,5]\n",
        "l.remove(5)\n",
        "print(l)"
      ],
      "metadata": {
        "id": "NB3QoY1bb3Ej"
      },
      "execution_count": null,
      "outputs": []
    },
    {
      "cell_type": "markdown",
      "source": [
        "#Tuples"
      ],
      "metadata": {
        "id": "e2m5BzEqec72"
      }
    },
    {
      "cell_type": "code",
      "source": [
        "tuple=(\"Car\",\"Bike\",\"Bus\",\"Truck\")\n",
        "for i in tuple:\n",
        "  print(i)"
      ],
      "metadata": {
        "id": "gOPwZPVNegpd"
      },
      "execution_count": null,
      "outputs": []
    },
    {
      "cell_type": "code",
      "source": [
        "#Count Occurence of an element in a tuple\n",
        "tuple = (1, 2, 3, 2, 4, 2, 5)\n",
        "find = 2\n",
        "count = tuple.count(find)\n",
        "print(f\"The element {find} appears {count} times in the tuple.\")\n"
      ],
      "metadata": {
        "id": "bRArWzP_e3ce"
      },
      "execution_count": null,
      "outputs": []
    },
    {
      "cell_type": "code",
      "source": [
        "#Find index of an element\n",
        "tuple = (1, 2, 3, 2, 4, 2, 5)\n",
        "find=5\n",
        "loc=2\n",
        "index=tuple.index(find)\n",
        "indices = [i for i, x in enumerate(my_tuple) if x == loc]\n",
        "print(f\"The index of {find} is {index}\")\n",
        "print(f\"The index of {loc} is {indices}\")\n",
        "\n"
      ],
      "metadata": {
        "id": "3LZoiLd3gPdo"
      },
      "execution_count": null,
      "outputs": []
    },
    {
      "cell_type": "markdown",
      "source": [],
      "metadata": {
        "id": "o87tEIFkhz-K"
      }
    },
    {
      "cell_type": "markdown",
      "source": [
        "#Dictionary"
      ],
      "metadata": {
        "id": "q_VAN3xPkBFI"
      }
    },
    {
      "cell_type": "code",
      "source": [
        "#Create and access the dictionary\n",
        "d={'a':1,'b':2,'c':3}\n",
        "print(d)\n"
      ],
      "metadata": {
        "id": "BtuhgMDQkEKG"
      },
      "execution_count": null,
      "outputs": []
    },
    {
      "cell_type": "code",
      "source": [
        "#Add a new key value pair\n",
        "d={'a':1,'b':2,'c':3}\n",
        "d[\"e\"]=4\n",
        "print(d)"
      ],
      "metadata": {
        "id": "WKdSeIpBkfC3"
      },
      "execution_count": null,
      "outputs": []
    },
    {
      "cell_type": "code",
      "source": [
        "#Remove a key value pair\n",
        "d={'a':1,'b':2,'c':3}\n",
        "d.pop(\"a\")\n",
        "print(d)\n"
      ],
      "metadata": {
        "id": "v6i8_vm-k70V"
      },
      "execution_count": null,
      "outputs": []
    },
    {
      "cell_type": "markdown",
      "source": [
        "#Sets"
      ],
      "metadata": {
        "id": "Dsq3nQqdlbva"
      }
    },
    {
      "cell_type": "code",
      "source": [
        "#create a set and print its element\n",
        "set={1,2,3,4}\n",
        "print(set)"
      ],
      "metadata": {
        "colab": {
          "base_uri": "https://localhost:8080/"
        },
        "id": "IMZigfVOldwW",
        "outputId": "47afa171-8fba-485a-a872-f596089489b3"
      },
      "execution_count": null,
      "outputs": [
        {
          "output_type": "stream",
          "name": "stdout",
          "text": [
            "{1, 2, 3, 4}\n"
          ]
        }
      ]
    },
    {
      "cell_type": "code",
      "source": [
        "#union if two sets\n",
        "set1={1,3,5,7}\n",
        "set2={2,4,6,8}\n",
        "set3=set1.union(set2)\n",
        "print(set3)"
      ],
      "metadata": {
        "id": "QQvpPy71nOXH"
      },
      "execution_count": null,
      "outputs": []
    },
    {
      "cell_type": "code",
      "source": [
        "#Intersection of two sets\n",
        "set1={1,3,5,7}\n",
        "set2={7,4,1,8}\n",
        "set3=set1.intersection(set2)\n",
        "print(set3)"
      ],
      "metadata": {
        "id": "BtkMrg5toSyz"
      },
      "execution_count": null,
      "outputs": []
    },
    {
      "cell_type": "markdown",
      "source": [
        "#Funtion tasks"
      ],
      "metadata": {
        "id": "6BsdWTVjoraq"
      }
    },
    {
      "cell_type": "code",
      "source": [
        "#create a funtion that adds two numbers\n",
        "def add(a,b):\n",
        "  return a+b\n",
        "a,b=map(int,input(\"Enter the number\").split(\",\"))\n",
        "add(a,b)"
      ],
      "metadata": {
        "id": "LwC0PoueovN7"
      },
      "execution_count": null,
      "outputs": []
    },
    {
      "cell_type": "code",
      "source": [
        "#Function that checks if a number is even or odd\n",
        "def even_odd(n):\n",
        "  if n%2==0:\n",
        "    return \"Even\"\n",
        "  else:\n",
        "    return \"Odd\"\n",
        "n=int(input(\"Enter the number\")\n",
        "even_odd(n)"
      ],
      "metadata": {
        "id": "Ra8TdJfapgqx"
      },
      "execution_count": null,
      "outputs": []
    },
    {
      "cell_type": "code",
      "source": [
        "#funtion with default parameter\n",
        "def add(a,b=5):\n",
        "  return a+b\n",
        "#a=int(input(\"Enter the number\"))\n",
        "add(5)"
      ],
      "metadata": {
        "id": "sbdF49DIqmD_"
      },
      "execution_count": null,
      "outputs": []
    },
    {
      "cell_type": "markdown",
      "source": [
        "#Exception Handling"
      ],
      "metadata": {
        "id": "QmDrBifjrqF9"
      }
    },
    {
      "cell_type": "code",
      "source": [
        "#Exception Handling division by zero\n",
        "try:\n",
        "    a,b= map(int,input(\"Enter the number: \").split(\",\"))\n",
        "    c = a/b\n",
        "    print(f\"The result of division is: {c}\")\n",
        "\n",
        "except ZeroDivisionError:\n",
        "    print(\"Error: Cannot divide by zero!\")"
      ],
      "metadata": {
        "id": "3zRMs5_nrvv3"
      },
      "execution_count": null,
      "outputs": []
    },
    {
      "cell_type": "code",
      "source": [
        "#Handle invalid input\n",
        "try:\n",
        "  a=int(input(\"Enter the number\"))\n",
        "except ValueError:\n",
        "  print(\"Invalid input\")"
      ],
      "metadata": {
        "id": "1y4BC81utinq"
      },
      "execution_count": null,
      "outputs": []
    },
    {
      "cell_type": "code",
      "source": [
        "#Handle key error in dictionary\n",
        "try:\n",
        "  dict={\"a\":1,\"b\":2,\"c\":3}\n",
        "  print(dict[\"d\"])\n",
        "except KeyError:\n",
        "  print(\"Key Error\")"
      ],
      "metadata": {
        "colab": {
          "base_uri": "https://localhost:8080/"
        },
        "id": "8rev63QuuGqh",
        "outputId": "c1f545e7-9889-4aa4-facd-d491aaad8312"
      },
      "execution_count": null,
      "outputs": [
        {
          "output_type": "stream",
          "name": "stdout",
          "text": [
            "Key Error\n"
          ]
        }
      ]
    }
  ]
}