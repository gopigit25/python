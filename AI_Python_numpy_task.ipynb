{
  "nbformat": 4,
  "nbformat_minor": 0,
  "metadata": {
    "colab": {
      "provenance": []
    },
    "kernelspec": {
      "name": "python3",
      "display_name": "Python 3"
    },
    "language_info": {
      "name": "python"
    }
  },
  "cells": [
    {
      "cell_type": "markdown",
      "source": [
        "#Numpy - Basics"
      ],
      "metadata": {
        "id": "GpNrXYao2b3R"
      }
    },
    {
      "cell_type": "code",
      "execution_count": null,
      "metadata": {
        "id": "v9o6oC8ugP-O"
      },
      "outputs": [],
      "source": [
        "#Creating and modifying an array\n",
        "import numpy as np\n",
        "a = np.array([1,2,3,4,5,6])\n",
        "print(a)"
      ]
    },
    {
      "cell_type": "code",
      "source": [
        "#Finding min,max and mean in an array\n",
        "import numpy as np\n",
        "a=np.array([1,2,3,4,5,6])\n",
        "#print max\n",
        "print(a.max())\n",
        "print(a.min())\n",
        "print(a.mean())"
      ],
      "metadata": {
        "id": "RQ3DwWFG2zDw"
      },
      "execution_count": null,
      "outputs": []
    },
    {
      "cell_type": "code",
      "source": [
        "#Reshapping and flattening of an array\n",
        "import numpy as np\n",
        "a=np.array([1,2,3,4,5,6])\n",
        "#array=a.reshape(3,2)\n",
        "array=a.reshape(2,3)\n",
        "print(array)\n",
        "#farray=array.flatten()\n",
        "#farray=array.reshape(-1)\n",
        "farray=array.ravel()\n",
        "print(farray)"
      ],
      "metadata": {
        "id": "dZztiwVC3ctd"
      },
      "execution_count": null,
      "outputs": []
    },
    {
      "cell_type": "code",
      "source": [
        "#Create two 2x2 array and stack them vertically and horizontally\n",
        "import numpy as np\n",
        "arr1=np.array([[1,2,3,4],[5,6,7,8]])\n",
        "arr2=np.array([[9,10,11,12],[13,14,15,16]])\n",
        "#array=a.reshape(2,2)\n",
        "#stack the array vertically and horizontally\n",
        "varray=np.vstack((arr1,arr2))\n",
        "harray=np.hstack((arr1,arr2))\n",
        "print(varray)\n",
        "print(harray)\n"
      ],
      "metadata": {
        "id": "MLzZbFKW6DbG"
      },
      "execution_count": null,
      "outputs": []
    },
    {
      "cell_type": "code",
      "source": [
        "#convert a 1D array of size 9 into 3x3 matrix\n",
        "import numpy as np\n",
        "a=np.array([1,2,3,4,5,6,7,8,9])\n",
        "arr=a.reshape(3,3)\n",
        "print(arr)"
      ],
      "metadata": {
        "id": "BTvwMA5CGP_8"
      },
      "execution_count": null,
      "outputs": []
    },
    {
      "cell_type": "code",
      "source": [
        "#create an array from 1 to 10 and reverse it\n",
        "import numpy as np\n",
        "a=np.arange(1,11)\n",
        "rev=a[::-1]\n",
        "print(rev)"
      ],
      "metadata": {
        "id": "Utc71FzdGupx"
      },
      "execution_count": null,
      "outputs": []
    }
  ]
}